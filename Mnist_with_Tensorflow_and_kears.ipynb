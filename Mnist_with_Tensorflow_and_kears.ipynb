{
  "nbformat": 4,
  "nbformat_minor": 0,
  "metadata": {
    "colab": {
      "provenance": [],
      "authorship_tag": "ABX9TyMeAAd7Qt0GVlsRZrZ0M3bx",
      "include_colab_link": true
    },
    "kernelspec": {
      "name": "python3",
      "display_name": "Python 3"
    },
    "language_info": {
      "name": "python"
    }
  },
  "cells": [
    {
      "cell_type": "markdown",
      "metadata": {
        "id": "view-in-github",
        "colab_type": "text"
      },
      "source": [
        "<a href=\"https://colab.research.google.com/github/RikiRk/Deep-Learning-/blob/main/Mnist_with_Tensorflow_and_kears.ipynb\" target=\"_parent\"><img src=\"https://colab.research.google.com/assets/colab-badge.svg\" alt=\"Open In Colab\"/></a>"
      ]
    },
    {
      "cell_type": "code",
      "execution_count": null,
      "metadata": {
        "id": "eHoMfiIqbvhf",
        "colab": {
          "base_uri": "https://localhost:8080/"
        },
        "outputId": "34a9b8e9-7066-46c5-eba1-67601c40db3f"
      },
      "outputs": [
        {
          "output_type": "execute_result",
          "data": {
            "text/plain": [
              "<module 'keras.api._v2.keras.datasets.mnist' from '/usr/local/lib/python3.7/dist-packages/keras/api/_v2/keras/datasets/mnist/__init__.py'>"
            ]
          },
          "metadata": {},
          "execution_count": 1
        }
      ],
      "source": [
        "import tensorflow as tf \n",
        "\n",
        "mnist = tf.keras.datasets.mnist\n",
        "\n",
        "mnist"
      ]
    },
    {
      "cell_type": "code",
      "source": [
        "(X_train,y_train), (X_test,y_test)= mnist.load_data()\n",
        "X_train = tf.keras.utils.normalize(X_train)\n",
        "X_test = tf.keras.utils.normalize(X_test)"
      ],
      "metadata": {
        "id": "ZtQXWD6swKDx"
      },
      "execution_count": null,
      "outputs": []
    },
    {
      "cell_type": "code",
      "source": [
        "import matplotlib.pyplot as plt\n",
        "plt.imshow(X_train[1], cmap = plt.cm.binary)\n",
        "plt.show()"
      ],
      "metadata": {
        "colab": {
          "base_uri": "https://localhost:8080/",
          "height": 265
        },
        "id": "o-0gTNNUwdcD",
        "outputId": "f788e55c-8062-4f3d-924e-827fe3e7855d"
      },
      "execution_count": null,
      "outputs": [
        {
          "output_type": "display_data",
          "data": {
            "text/plain": [
              "<Figure size 432x288 with 1 Axes>"
            ],
            "image/png": "[encoded data removed]"
          },
          "metadata": {
            "needs_background": "light"
          }
        }
      ]
    },
    {
      "cell_type": "code",
      "source": [
        "model = tf.keras.models.Sequential()\n",
        "model.add(tf.keras.layers.Flatten())\n",
        "model.add(tf.keras.layers.Dense(128, activation=tf.nn.relu))\n",
        "model.add(tf.keras.layers.Dense(128, activation=tf.nn.relu))\n",
        "model.add(tf.keras.layers.Dense(128, activation=tf.nn.relu))\n",
        "model.add(tf.keras.layers.Dense(10, activation=tf.nn.softmax))\n",
        "model.compile(optimizer=\"adam\",loss=\"sparse_categorical_crossentropy\",metrics=[\"accuracy\"])\n"
      ],
      "metadata": {
        "id": "ZrPhRhEAwh4z"
      },
      "execution_count": null,
      "outputs": []
    },
    {
      "cell_type": "code",
      "source": [
        "model.fit(X_train, y_train, epochs=4)"
      ],
      "metadata": {
        "colab": {
          "base_uri": "https://localhost:8080/"
        },
        "id": "9D9t4SCc6Sxz",
        "outputId": "466d2ac3-c192-4ba9-bbf5-8bc649f4149f"
      },
      "execution_count": null,
      "outputs": [
        {
          "output_type": "stream",
          "name": "stdout",
          "text": [
            "Epoch 1/4\n",
            "1875/1875 [==============================] - 8s 4ms/step - loss: 0.2484 - accuracy: 0.9238\n",
            "Epoch 2/4\n",
            "1875/1875 [==============================] - 8s 4ms/step - loss: 0.1029 - accuracy: 0.9676\n",
            "Epoch 3/4\n",
            "1875/1875 [==============================] - 7s 4ms/step - loss: 0.0749 - accuracy: 0.9768\n",
            "Epoch 4/4\n",
            "1875/1875 [==============================] - 7s 4ms/step - loss: 0.0597 - accuracy: 0.9814\n"
          ]
        },
        {
          "output_type": "execute_result",
          "data": {
            "text/plain": [
              "<keras.callbacks.History at 0x7f8177885110>"
            ]
          },
          "metadata": {},
          "execution_count": 40
        }
      ]
    },
    {
      "cell_type": "code",
      "source": [
        "val_loss, val_accuracy = model.evaluate(X_test,y_test)"
      ],
      "metadata": {
        "colab": {
          "base_uri": "https://localhost:8080/"
        },
        "id": "btp9d3YW7QZb",
        "outputId": "8a7246ae-4f98-408a-bbfc-2efbc9fdc09a"
      },
      "execution_count": null,
      "outputs": [
        {
          "output_type": "stream",
          "name": "stdout",
          "text": [
            "313/313 [==============================] - 1s 2ms/step - loss: 0.0841 - accuracy: 0.9760\n"
          ]
        }
      ]
    },
    {
      "cell_type": "code",
      "source": [
        "print(f\"Value of Loss: {val_loss} and Value of Accuracy: {val_accuracy*100}%\")"
      ],
      "metadata": {
        "colab": {
          "base_uri": "https://localhost:8080/"
        },
        "id": "9-fX1VAC8Ha3",
        "outputId": "7ad745b1-4d6a-49ae-e73d-16ff8636bfef"
      },
      "execution_count": null,
      "outputs": [
        {
          "output_type": "stream",
          "name": "stdout",
          "text": [
            "Value of Loss: 0.08408266305923462 and Value of Accuracy: 97.60000109672546%\n"
          ]
        }
      ]
    },
    {
      "cell_type": "code",
      "source": [],
      "metadata": {
        "id": "q6sVvkWj8RHE"
      },
      "execution_count": null,
      "outputs": []
    }
  ]
}